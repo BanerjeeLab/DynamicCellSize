{
 "cells": [
  {
   "cell_type": "code",
   "execution_count": 1,
   "metadata": {},
   "outputs": [],
   "source": [
    "import matplotlib.pyplot as plt\n",
    "import numpy as np\n",
    "import pandas as pd\n",
    "import random as rdm\n",
    "from scipy import integrate, signal, optimize\n",
    "import matplotlib as mpl\n",
    "mpl.rcParams['pdf.fonttype'] = 42\n",
    "mpl.rcParams['ps.fonttype'] = 42"
   ]
  },
  {
   "cell_type": "markdown",
   "metadata": {},
   "source": [
    "Defining Coupled ODEs"
   ]
  },
  {
   "cell_type": "code",
   "execution_count": 16,
   "metadata": {},
   "outputs": [],
   "source": [
    "# defining regulatory functions and their derivatives\n",
    "\n",
    "f = lambda a: 1 / (1 + (a/a_n)**2) # regulatory function for k_n\n",
    "f_prime = lambda a: -2*a/a_n**2 / (1 + (a/a_n)**2)**2 # derivative of f w.r.t. a\n",
    "\n",
    "g = lambda a: (a/a_t)**2 / (1 + (a/a_t)**2) # regulatory function for k_t\n",
    "g_prime = lambda a: 2*a/a_t**2 / (1 + (a/a_t)**2)**2 # derivative of g w.r.t. a\n",
    "\n",
    "# f_R, the fraction of total cell synthesis capacity devoted to ribosome production\n",
    "f_R = lambda a: (-f_prime(a)*g(a)*phiR_max + f(a)*g_prime(a)*phiR_min) / (-f_prime(a)*g(a) + f(a)*g_prime(a))\n",
    "\n",
    "# f_X, fraction of cell synthesis capacity devoted to division protein production\n",
    "f_X = lambda a: alpha*(phiR_max - f_R(a)) + beta"
   ]
  },
  {
   "cell_type": "code",
   "execution_count": 3,
   "metadata": {},
   "outputs": [],
   "source": [
    "# defining the two regulatory function which compose dKappa_dt\n",
    "\n",
    "def alpha_k(a,t):\n",
    "\n",
    "    k_t = k_t0 * g(a)\n",
    "    kt_prime = k_t0 * g_prime(a)\n",
    "    k_n = k_n0(t) * f(a)\n",
    "\n",
    "    return 1 + kt_prime / k_t + kt_prime * k_n / k_t**2\n",
    "\n",
    "def beta_k(a,t):\n",
    "\n",
    "    k_t = k_t0 * g(a)\n",
    "    kt_prime = k_t0 * g_prime(a)\n",
    "    k_n = k_n0(t) * f(a)\n",
    "\n",
    "    return k_t * (f_R(a) - phiR_min) + kt_prime * k_n * (phiR_max - phiR_min) / k_t"
   ]
  },
  {
   "cell_type": "code",
   "execution_count": 4,
   "metadata": {},
   "outputs": [],
   "source": [
    "# defining growth rate ODE\n",
    "\n",
    "def dKappa_dt(kappa, t, a):\n",
    "\n",
    "    return kappa * (beta_k(a,t) - alpha_k(a,t) * kappa)"
   ]
  },
  {
   "cell_type": "code",
   "execution_count": 5,
   "metadata": {},
   "outputs": [],
   "source": [
    "def dXdt(X, t, a, kappa, V):\n",
    "\n",
    "    dxdt = f_X(a) * kappa * V - mu * X\n",
    "    return dxdt"
   ]
  },
  {
   "cell_type": "code",
   "execution_count": 6,
   "metadata": {},
   "outputs": [],
   "source": [
    "# amino acid concentration ODE (variable nutrient conc.(c))\n",
    "\n",
    "def dAAdt(a, t, kappa):\n",
    "\n",
    "    k_n = k_n0(t) * f(a) # nutritional efficiency, depends on concentration of nutrients outside cell\n",
    "    k_t = k_t0 * g(a) # translational efficiency\n",
    "\n",
    "    dadt = k_n * (phiR_max - phiR_min) - (1 + k_n/k_t) * kappa\n",
    "    return dadt"
   ]
  },
  {
   "cell_type": "code",
   "execution_count": 7,
   "metadata": {},
   "outputs": [],
   "source": [
    "def dVdt(V, t, kappa):\n",
    "\n",
    "    dvdt = kappa * V\n",
    "    return dvdt"
   ]
  },
  {
   "cell_type": "code",
   "execution_count": 8,
   "metadata": {},
   "outputs": [],
   "source": [
    "# packing coupled ODEs together to be solved by odeint\n",
    "\n",
    "def odes(Species, t, del_K):\n",
    "\n",
    "    kappa,X,a,V = Species # Tuple unpakcing of each species, equivalent to phi_R = Species[0] // a = Species[1]\n",
    "\n",
    "    # simulating average growth dynamics of system\n",
    "    kappa_ode = dKappa_dt(kappa, t, a)\n",
    "    a_ode = dAAdt(a, t, kappa)\n",
    "\n",
    "    # simulating cell-specific dynamics\n",
    "    X_ode = dXdt(X, t, a, kappa, V)\n",
    "    V_ode = dVdt(V, t, kappa + del_K)\n",
    "\n",
    "    dSpeciesdt = [kappa_ode,X_ode,a_ode,V_ode]\n",
    "    return dSpeciesdt"
   ]
  },
  {
   "cell_type": "code",
   "execution_count": null,
   "metadata": {},
   "outputs": [],
   "source": [
    "# standard deviation\n",
    "\n",
    "def std(kappa):\n",
    "    a = 0.057\n",
    "    b = 0.0064\n",
    "    return (a * kappa/60 + b) * 60"
   ]
  },
  {
   "cell_type": "markdown",
   "metadata": {},
   "source": [
    "Parameters"
   ]
  },
  {
   "cell_type": "code",
   "execution_count": 18,
   "metadata": {},
   "outputs": [],
   "source": [
    "# parameters\n",
    "\n",
    "phiR_min = 0.049 # Scott et al. 2010\n",
    "phiR_max = 0.55 # Scott et al. 2010\n",
    "\n",
    "a_n = 1e-3 # level to trigger negative feeback inhibition of amino acid supply, Scott et al. 2014\n",
    "a_t = 1e-4 # amino acid level for efficient peptide elongation, Scott et al. 2014\n",
    "\n",
    "k_t0 = 2.6\n",
    "kn0_high = 62.8\n",
    "kn0_low = 5.29\n",
    "\n",
    "alpha = 2.3\n",
    "beta = 0.7\n",
    "mu = 0.6"
   ]
  },
  {
   "cell_type": "markdown",
   "metadata": {},
   "source": [
    "Defining functions to calculate steady state initial conditions"
   ]
  },
  {
   "cell_type": "code",
   "execution_count": 10,
   "metadata": {},
   "outputs": [],
   "source": [
    "# function for phi_R at steady state\n",
    "\n",
    "def kappa_ss(a):\n",
    "\n",
    "    k_n = k_n0(0) * f(a) # nutritional efficiency, depends on concentration of nutrients outside cell\n",
    "    k_t = k_t0 * g(a) # translational efficiency\n",
    "\n",
    "    return k_n * (phiR_max - phiR_min) / (1 + k_n / k_t)"
   ]
  },
  {
   "cell_type": "code",
   "execution_count": 11,
   "metadata": {},
   "outputs": [],
   "source": [
    "# function for calculating steady state conditions for given parameters\n",
    "\n",
    "def func(x):\n",
    "    return [kappa_ss(x[0]) - x[1], # x[0]=a, x[1]=kappa\n",
    "            k_t0 * g(x[0]) * (f_R(x[0]) - phiR_min) - x[1]]"
   ]
  },
  {
   "cell_type": "markdown",
   "metadata": {},
   "source": [
    "#### Population level simulation"
   ]
  },
  {
   "cell_type": "code",
   "execution_count": 14,
   "metadata": {},
   "outputs": [],
   "source": [
    "# packing coupled ODEs together to be solved by odeint\n",
    "\n",
    "def odes(Species, t, del_K):\n",
    "\n",
    "    kappa,X,a,V = Species # Tuple unpakcing of each species, equivalent to phi_R = Species[0] // a = Species[1]\n",
    "\n",
    "    # simulating average growth dynamics of system\n",
    "    kappa_ode = dKappa_dt(kappa, t, a)\n",
    "    a_ode = dAAdt(a, t, kappa)\n",
    "\n",
    "    # simulating cell-specific dynamics\n",
    "    X_ode = dXdt(X, t, a, kappa + del_K, V)\n",
    "    V_ode = dVdt(V, t, kappa + del_K)\n",
    "\n",
    "    dSpeciesdt = [kappa_ode,X_ode,a_ode,V_ode]\n",
    "    return dSpeciesdt"
   ]
  },
  {
   "cell_type": "code",
   "execution_count": 15,
   "metadata": {},
   "outputs": [],
   "source": [
    "# simulation implementation\n",
    "\n",
    "def SimulateAndPlot(simulation_max, iterations, replicates):\n",
    "\n",
    "    t = np.linspace(0,simulation_max,iterations)\n",
    "    cell_count = np.ones(iterations) * replicates\n",
    "\n",
    "    # initializing each array to save intergenerataional statistics\n",
    "    t_divide = np.zeros(1)\n",
    "    delta_V = np.zeros(1)\n",
    "    tau = np.zeros(1)\n",
    "    cell_GRate = np.zeros(1)\n",
    "\n",
    "    for x in range(replicates):\n",
    "        start = True\n",
    "\n",
    "        # initializing each array to save initial conditions for each new trajectory\n",
    "        t_birth = np.zeros(1)\n",
    "        V_birth = np.array([rdm.randint(120,200)/100]) # assigning random initial cell volume, in um^3\n",
    "        kappa_birth = np.array([kappa0])\n",
    "        a_birth = np.array([a0])\n",
    "\n",
    "        m=0\n",
    "        while m < len(t_birth):\n",
    "            # start at i=1 so a[i-1]=a0 and phi_R[i-1]=phi_R0\n",
    "            i = np.where(t == t_birth[m])[0][0] + 1 # starting at time index corresponding to birth a cell lineage\n",
    "            new_lineage = True # denoting start of new cell lineage\n",
    "\n",
    "            V = np.zeros(iterations)\n",
    "            V[i-1] = V_birth[m]\n",
    "\n",
    "            kappa = np.zeros(iterations)\n",
    "            kappa[i-1] = kappa_birth[m]\n",
    "\n",
    "            kappa_cell = np.zeros(iterations)\n",
    "            del_K = np.random.normal(0, std(kappa[0]))\n",
    "            if kappa[i-1] + del_K < 0:\n",
    "                del_K = -kappa[i-1] + 1e-1\n",
    "            kappa_cell[i-1] = kappa[i-1] + del_K\n",
    "\n",
    "            a = np.zeros(iterations)\n",
    "            a[i-1] = a_birth[m]\n",
    "\n",
    "            X = np.zeros(iterations)\n",
    "            if start == True:\n",
    "                X[i-1] = f_X(a0)*V_birth[i-1]*0.35\n",
    "                start = False\n",
    "\n",
    "            while i < iterations:\n",
    "\n",
    "                species_0 = [kappa[i-1], X[i-1], a[i-1], V[i-1]] # packing initial conditions\n",
    "\n",
    "                argtuple = (del_K,)\n",
    "                species = integrate.odeint(odes, species_0, t[i-1:i+1], args=argtuple) # solving for values at next timestep\n",
    "\n",
    "                kappa[i], X[i], a[i], V[i] = species[1,:] # unpacking and storing species values for new time step\n",
    "                kappa_cell[i] = kappa[i] + del_K\n",
    "\n",
    "                X_0 = 1 # amount of division proteins required to trigger division\n",
    "                # if cell has added threshold volume amount, it will then divide\n",
    "                if X[i-1] >= X_0:\n",
    "\n",
    "                    r = np.random.normal(0.5, 0.04) # drawing random value for volume allocation to daughter cell, taken from normal distribution\n",
    "                    V[i] = r * V[i-1] # cell volume is divided roughly in half\n",
    "\n",
    "                    # updating intergenerational stat arrays\n",
    "                    t_divide = np.vstack((t_divide, np.array( t[i-1] )))\n",
    "                    if new_lineage == True:\n",
    "                        delta_V = np.vstack((delta_V, np.array( V[i-1] - V_birth[m] )))\n",
    "                        tau = np.vstack((tau, np.array( t[i-1] - t_birth[m] )))\n",
    "                        n = np.where(t == t_birth[m])[0][0]\n",
    "                        new_lineage = False\n",
    "                    else:\n",
    "                        delta_V = np.vstack((delta_V, np.array( V[i-1] - V_birth[-1] )))\n",
    "                        tau = np.vstack((tau, np.array( t[i-1] - t_birth[-1] )))\n",
    "                        n = np.where(t == t_birth[-1])[0][0]\n",
    "                    cell_GRate = np.vstack((cell_GRate, np.array( np.mean( kappa_cell[n:i-1] ) )))\n",
    "\n",
    "                    # updating initial conditions arrays\n",
    "                    t_birth = np.vstack((t_birth, np.array(t[i])))\n",
    "                    V_birth = np.vstack((V_birth, np.array( (1 - r) * V[i-1] )))\n",
    "                    kappa_birth = np.vstack((kappa_birth, np.array(kappa[i])))\n",
    "                    a_birth = np.vstack((a_birth, np.array(a[i])))\n",
    "\n",
    "                    X[i] = 0 # division protein concentration is reset to zero\n",
    "                    del_K = np.random.normal(0, std(kappa[i]))\n",
    "                    if kappa[i] + del_K < 0:\n",
    "                        del_K = -kappa[i] + 1e-1\n",
    "\n",
    "                    cell_count[i:iterations] +=1 # keeping track of total cell count over time\n",
    "                i +=1\n",
    "            m +=1\n",
    "\n",
    "    # discarding initialization row\n",
    "    t_divide = np.delete(t_divide, (0))\n",
    "    delta_V = np.delete(delta_V, (0))\n",
    "    tau = np.delete(tau, (0))\n",
    "    cell_GRate = np.delete(cell_GRate, (0))\n",
    "\n",
    "    return t_divide, delta_V, tau, cell_GRate, t, cell_count"
   ]
  },
  {
   "cell_type": "code",
   "execution_count": null,
   "metadata": {},
   "outputs": [],
   "source": [
    "simulation_max = 7 # in hrs\n",
    "iterations = 9000 # number of simulation points per replicate\n",
    "replicates = 80\n",
    "\n",
    "# concentration function\n",
    "t_shift = 5 # time at which nutrient shift occurs, in hrs\n",
    "t_feast = 0.75\n",
    "k_n0 = lambda t: (kn0_high - kn0_low) * (np.heaviside(t-t_shift,0.5) - np.heaviside(t-(t_shift+t_feast),0.5)) + kn0_low\n",
    "\n",
    "# solving for initial conditions to produce steady state\n",
    "root = optimize.fsolve(func, [1e-2, 0.8]) # requires guess of initial conditions\n",
    "kappa0 = root[1] # initial proteome fraction\n",
    "a0 = 3.65e-4 #root[0] # initial amin acid concentration\n",
    "\n",
    "t_divide, delta_V, tau, cell_GRate, t, cell_count = SimulateAndPlot(simulation_max, iterations, replicates)"
   ]
  },
  {
   "cell_type": "markdown",
   "metadata": {},
   "source": [
    "Saving simulation results and/or loading in previous results"
   ]
  },
  {
   "cell_type": "code",
   "execution_count": 21,
   "metadata": {},
   "outputs": [],
   "source": [
    "# saving simulation results\n",
    "# np.savetxt('Simulation Results/t.csv', t, delimiter=',', header='t')\n",
    "# np.savetxt('Simulation Results/cell_count.csv', cell_count, delimiter=',', header='cell_count')\n",
    "\n",
    "# loading in previous results\n",
    "df_time = pd.read_csv('Simulation Results/t.csv')\n",
    "df_numCells = pd.read_csv('Simulation Results/cell_count.csv')\n",
    "t_shift = 5\n",
    "t_feast = 0.75"
   ]
  },
  {
   "cell_type": "markdown",
   "metadata": {},
   "source": [
    "#### Calculting population growth rate"
   ]
  },
  {
   "cell_type": "markdown",
   "metadata": {},
   "source": [
    "Sliding averages"
   ]
  },
  {
   "cell_type": "code",
   "execution_count": 22,
   "metadata": {},
   "outputs": [],
   "source": [
    "# dynamic allocation model\n",
    "\n",
    "n_bins = 420 # number of bins for averaging\n",
    "t_min = 0 # selecting time window for analysis\n",
    "t_max = 7\n",
    "t_step = (t_max - t_min)/n_bins\n",
    "\n",
    "time = np.linspace(t_min,t_max,n_bins+1)\n",
    "pop_growth = np.zeros(len(time))\n",
    "n_points = len(time)\n",
    "\n",
    "# concat\n",
    "df_pop = pd.concat([df_time,df_numCells], axis=1, join='inner')\n",
    "\n",
    "# taking binned average because division events are not evenly spaced\n",
    "for i in range(n_points-1):\n",
    "    pop_x = df_pop.loc[(df_pop['# t'] > time[i]) & (df_pop['# t'] < time[i+1]), ['# cell_count']]\n",
    "    pop_max = max(pop_x['# cell_count'])\n",
    "    pop_min = min(pop_x['# cell_count'])\n",
    "    pop_growth[i] = (np.log(pop_max) - np.log(pop_min)) / t_step\n",
    "# removing last timepoint becuase not binned properly\n",
    "time = time[0:-1]\n",
    "pop_growth = pop_growth[0:-1]\n",
    "\n",
    "\n",
    "# calculating moving average\n",
    "window_size = 20\n",
    "\n",
    "# Initialize an empty list to store moving averages\n",
    "POPgrowth_movingAve = []\n",
    "time_movingAve = []\n",
    "\n",
    "i=0\n",
    "# Loop through array to consider every window of set size\n",
    "while i < len(pop_growth) - window_size + 1:\n",
    "\n",
    "    # calculate average of current window\n",
    "    growth_window_ave = np.sum(pop_growth[i:i+window_size]) / window_size\n",
    "    POPgrowth_movingAve.append(growth_window_ave)\n",
    "\n",
    "    time_window_ave = np.sum(time[i:i+window_size]) / window_size\n",
    "    time_movingAve.append(time_window_ave)\n",
    "    i +=1"
   ]
  },
  {
   "cell_type": "markdown",
   "metadata": {},
   "source": [
    "Simulating single cell growth rate to compare"
   ]
  },
  {
   "cell_type": "code",
   "execution_count": 23,
   "metadata": {},
   "outputs": [],
   "source": [
    "# ribosome mass fraction ODE (f_R variable)\n",
    "\n",
    "def dphiR_dt(phi_R, t, a):\n",
    "\n",
    "    k_t = k_t0 * g(a) # translational efficiency\n",
    "\n",
    "    dpdt = k_t * (phi_R - phiR_min) * (f_R(a) - phi_R)\n",
    "    return dpdt"
   ]
  },
  {
   "cell_type": "code",
   "execution_count": 24,
   "metadata": {},
   "outputs": [],
   "source": [
    "# amino acid concentration ODE (variable nutrient conc.(c))\n",
    "\n",
    "def dAAdt(a, t, phi_R, t_feast):\n",
    "\n",
    "    k_n = k_n0(t, t_feast) * f(a) # nutritional efficiency, depends on concentration of nutrients outside cell\n",
    "    k_t = k_t0 * g(a) # translational efficiency\n",
    "\n",
    "    dadt = k_n * (phiR_max - phi_R) - k_t * (phi_R - phiR_min)\n",
    "    return dadt"
   ]
  },
  {
   "cell_type": "code",
   "execution_count": 25,
   "metadata": {},
   "outputs": [],
   "source": [
    "# defining growth rate function\n",
    "\n",
    "def GrowthRate(a, phi_R):\n",
    "\n",
    "    k_t = k_t0 * g(a)\n",
    "\n",
    "    k = k_t * (phi_R - phiR_min)\n",
    "    return k"
   ]
  },
  {
   "cell_type": "code",
   "execution_count": 26,
   "metadata": {},
   "outputs": [],
   "source": [
    "# function for phi_R at steady state\n",
    "\n",
    "def phiR_ss(a, t_feast):\n",
    "\n",
    "    k_n = k_n0(t_min,t_feast) * f(a) # nutritional efficiency, depends on concentration of nutrients outside cell\n",
    "    k_t = k_t0 * g(a) # translational efficiency\n",
    "\n",
    "    return (k_n*phiR_max + k_t*phiR_min) / (k_n + k_t)"
   ]
  },
  {
   "cell_type": "code",
   "execution_count": 27,
   "metadata": {},
   "outputs": [],
   "source": [
    "# function for calculating steady state conditions for given parameters\n",
    "\n",
    "def func(x, t_feast):\n",
    "    return [phiR_ss(x[0], t_feast) - x[1], # x[0]=a, x[1]=phi_R\n",
    "            f_R(x[0]) - x[1]]"
   ]
  },
  {
   "cell_type": "markdown",
   "metadata": {},
   "source": [
    "Defining Model"
   ]
  },
  {
   "cell_type": "code",
   "execution_count": 28,
   "metadata": {},
   "outputs": [],
   "source": [
    "# packing coupled ODEs together to be solved by odeint\n",
    "\n",
    "def odes(Species, t, t_feast):\n",
    "\n",
    "    phi_R,a = Species # Tuple unpacking of each species, equivalent to phi_R = Species[0] // a = Species[1]\n",
    "\n",
    "    phiR_ode = dphiR_dt(phi_R, t, a)\n",
    "    a_ode = dAAdt(a, t, phi_R, t_feast)\n",
    "\n",
    "    dSpeciesdt = [phiR_ode,a_ode]\n",
    "    return dSpeciesdt"
   ]
  },
  {
   "cell_type": "code",
   "execution_count": 29,
   "metadata": {},
   "outputs": [],
   "source": [
    "def model(t, t_feast):\n",
    "\n",
    "    # calculating initial conditions\n",
    "    argtuple = (t_feast,)\n",
    "    root = optimize.fsolve(func, [1e-4, 0.4], args=argtuple) # requires an initial guess\n",
    "    species_0 = [root[1],root[0]] # [phi_R0,a0]\n",
    "\n",
    "    species = integrate.odeint(odes, species_0, t, args=argtuple) #numerically solving coupled ODEs\n",
    "\n",
    "    phi_R = species[:,0]\n",
    "    a = species[:,1]\n",
    "\n",
    "    kappa = GrowthRate(a, phi_R)\n",
    "\n",
    "    return kappa"
   ]
  },
  {
   "cell_type": "markdown",
   "metadata": {},
   "source": [
    "Figure 6"
   ]
  },
  {
   "cell_type": "code",
   "execution_count": 30,
   "metadata": {},
   "outputs": [
    {
     "data": {
      "image/png": "[encoded data removed]",
      "text/plain": [
       "<Figure size 432x288 with 1 Axes>"
      ]
     },
     "metadata": {
      "needs_background": "light"
     },
     "output_type": "display_data"
    }
   ],
   "source": [
    "t_min = 0\n",
    "t_max = 5\n",
    "t_shift = 3\n",
    "t_feast = 0.75\n",
    "\n",
    "fig = plt.figure()\n",
    "t = np.linspace(t_min,t_max,10000)\n",
    "k_n0 = lambda t, t_feast: (kn0_high - kn0_low) * (np.heaviside(t-t_shift,0.5) - np.heaviside(t-(t_shift+t_feast),0.5)) + kn0_low\n",
    "plt.plot(t+2, model(t, t_feast), label='Single-cell growth rate', color='k')\n",
    "# used t+2 because of simulation glitch when using real t\n",
    "\n",
    "plt.plot(time_movingAve, POPgrowth_movingAve/np.log(2), label='Population growth rate')\n",
    "plt.axvline(t_shift+2, linestyle='--', color='gray')\n",
    "plt.axvline(t_shift+t_feast+2, linestyle='--', color='gray')\n",
    "\n",
    "plt.xlabel('Time (h)')\n",
    "plt.ylabel('Growth Rate (h$^{-1}$)')\n",
    "plt.rc('font', size=12) #controls default text size\n",
    "plt.xlim(3.5,6.85)\n",
    "plt.legend()\n",
    "plt.show()"
   ]
  },
  {
   "cell_type": "code",
   "execution_count": null,
   "metadata": {},
   "outputs": [],
   "source": []
  }
 ],
 "metadata": {
  "interpreter": {
   "hash": "d858edc51b90fdbc004d9130036916b9dc7665c3458a1e0151f50c092e593d93"
  },
  "kernelspec": {
   "display_name": "Python 3.8.3 ('base')",
   "language": "python",
   "name": "python3"
  },
  "language_info": {
   "codemirror_mode": {
    "name": "ipython",
    "version": 3
   },
   "file_extension": ".py",
   "mimetype": "text/x-python",
   "name": "python",
   "nbconvert_exporter": "python",
   "pygments_lexer": "ipython3",
   "version": "3.8.3"
  },
  "orig_nbformat": 4
 },
 "nbformat": 4,
 "nbformat_minor": 2
}
